{
 "cells": [
  {
   "cell_type": "raw",
   "id": "cbfae4ac-8c78-4d80-a2a1-3bbf13a164fc",
   "metadata": {},
   "source": [
    "pip install pymysql"
   ]
  },
  {
   "cell_type": "markdown",
   "id": "99559eeb-898d-473e-a44d-5555772ca9fc",
   "metadata": {},
   "source": [
    "# Database Connection"
   ]
  },
  {
   "cell_type": "markdown",
   "id": "c9180f1f-aafd-4b02-aa3b-d50f3c85616d",
   "metadata": {},
   "source": [
    "## Import libraries"
   ]
  },
  {
   "cell_type": "code",
   "execution_count": 4,
   "id": "bdcf6cf3-fdb1-401b-beaf-1f68f4674f3a",
   "metadata": {},
   "outputs": [],
   "source": [
    "import mysql.connector\n",
    "from mysql.connector import Error\n",
    "import pandas as pd\n",
    "import pymysql"
   ]
  },
  {
   "cell_type": "markdown",
   "id": "3420c24c-8baa-4977-8137-d95617d01744",
   "metadata": {},
   "source": [
    "## MySql Terminal and Password"
   ]
  },
  {
   "cell_type": "code",
   "execution_count": 7,
   "id": "64cf7787-5d50-4f55-8cef-9a5709251ae9",
   "metadata": {},
   "outputs": [],
   "source": [
    "host_name = \"localhost\"\n",
    "user_name = \"root\"\n",
    "pass_word = 'Hari@123'\n",
    "database_name = 'student_information_system'"
   ]
  },
  {
   "cell_type": "code",
   "execution_count": 9,
   "id": "6f25c8a2-ff09-4909-994b-0243ff73388b",
   "metadata": {},
   "outputs": [
    {
     "name": "stdout",
     "output_type": "stream",
     "text": [
      "MySQL Database connection successful\n"
     ]
    }
   ],
   "source": [
    "def create_server_connection (host_name, user_name, user_password):\n",
    "    connection = None\n",
    "    try:\n",
    "        connection = mysql.connector.connect(\n",
    "            host = host_name,\n",
    "            user = user_name,\n",
    "            password = user_password\n",
    "        )\n",
    "        print(\"MySQL Database connection successful\")\n",
    "    except Error as err:\n",
    "        print(f\"Error: '{err}'\")\n",
    "    return connection\n",
    "\n",
    "# Connect to database\n",
    "connection = create_server_connection(host_name, user_name, pass_word)"
   ]
  },
  {
   "cell_type": "markdown",
   "id": "d9b6ecb6-edf5-4f2b-892e-8742c885dc95",
   "metadata": {},
   "source": [
    "## Connect to Database"
   ]
  },
  {
   "cell_type": "code",
   "execution_count": 12,
   "id": "f725417e-b78f-4965-b753-a8a9194170d5",
   "metadata": {},
   "outputs": [],
   "source": [
    "def create_db_connection(host_name, user_name, user_password, db_name):\n",
    "    connection = None\n",
    "    try:\n",
    "        connection = mysql.connector.connect(\n",
    "            host = host_name,\n",
    "            user = user_name,\n",
    "            password = user_password,\n",
    "            database = db_name\n",
    "        )\n",
    "        print(\"MySQL Database connection successful\")\n",
    "    except Error as err:\n",
    "        print(f\"Error: '{err}'\")\n",
    "    return connection"
   ]
  },
  {
   "cell_type": "markdown",
   "id": "fe1fb147-0bfd-41ce-8a78-47e3b5028b24",
   "metadata": {},
   "source": [
    "## Execute Sql queries"
   ]
  },
  {
   "cell_type": "code",
   "execution_count": 15,
   "id": "16980aa0-3975-4148-8fd7-c397ab282b4a",
   "metadata": {},
   "outputs": [],
   "source": [
    "def execute_query(connection, query, data=None):\n",
    "    cursor = connection.cursor()\n",
    "    try:\n",
    "        if data:\n",
    "            cursor.execute(query, data)\n",
    "        else:\n",
    "            cursor.execute(query)\n",
    "        connection.commit()\n",
    "        # print(\"Query was successful\")\n",
    "        return True\n",
    "    except Error as err:\n",
    "        print(f\"Error : '{err}' \")\n",
    "        return False"
   ]
  },
  {
   "cell_type": "markdown",
   "id": "459d9985-0dec-465c-bab6-e082f2cfe85b",
   "metadata": {},
   "source": [
    "## query for create order table"
   ]
  },
  {
   "cell_type": "raw",
   "id": "ed012144-e320-475d-b5b5-aeb5838d5cf9",
   "metadata": {},
   "source": [
    "insert_user_data = \"\"\"\n",
    "INSERT INTO Users ( user_id, username, password, user_role )\n",
    "VALUES\n",
    "(011, 'hari', '123', 'student');\n",
    "\"\"\""
   ]
  },
  {
   "cell_type": "markdown",
   "id": "938d3007-0b4a-43f9-a330-39498c0c6666",
   "metadata": {},
   "source": [
    "## Connect to the database"
   ]
  },
  {
   "cell_type": "code",
   "execution_count": 19,
   "id": "8ba81451-f6d7-4e0d-8733-a557de171d05",
   "metadata": {},
   "outputs": [
    {
     "name": "stdout",
     "output_type": "stream",
     "text": [
      "MySQL Database connection successful\n"
     ]
    }
   ],
   "source": [
    "connection = create_db_connection(host_name, user_name, pass_word, database_name)"
   ]
  },
  {
   "cell_type": "code",
   "execution_count": 21,
   "id": "28a3504b-7ec9-44bb-b1a9-9519200ca69b",
   "metadata": {},
   "outputs": [
    {
     "data": {
      "text/plain": [
       "<mysql.connector.connection_cext.CMySQLConnection at 0x177aa7cb750>"
      ]
     },
     "execution_count": 21,
     "metadata": {},
     "output_type": "execute_result"
    }
   ],
   "source": [
    "connection"
   ]
  },
  {
   "cell_type": "markdown",
   "id": "7a90b783-bcf2-466a-bd9c-54e4bc006690",
   "metadata": {},
   "source": [
    "## Insert Data in Database"
   ]
  },
  {
   "cell_type": "raw",
   "id": "0faff97f-5ae9-4a02-a9cc-be3dbdb8e919",
   "metadata": {},
   "source": [
    "execute_query(connection, insert_user_data)"
   ]
  },
  {
   "cell_type": "markdown",
   "id": "6531a06c-8075-4c1c-8782-24ddf157478c",
   "metadata": {},
   "source": [
    "## Read the data from table"
   ]
  },
  {
   "cell_type": "code",
   "execution_count": 25,
   "id": "7c403bcb-1fb4-473c-bf8f-c8576a312cae",
   "metadata": {},
   "outputs": [],
   "source": [
    "def read_query(connection, query, data=None):\n",
    "    cursor = connection.cursor()\n",
    "    result = None\n",
    "    try:\n",
    "        if data:\n",
    "            cursor.execute(query, data)\n",
    "        else:\n",
    "            cursor.execute(query)\n",
    "        result = cursor.fetchall()\n",
    "        return result\n",
    "    except Error as err:\n",
    "        print(f\"Error : '{err}' \")\n",
    "    finally:\n",
    "        cursor.close()"
   ]
  },
  {
   "cell_type": "markdown",
   "id": "88296141-d5d8-4df1-b6ae-93892f437c30",
   "metadata": {},
   "source": [
    "## Get all data from database"
   ]
  },
  {
   "cell_type": "code",
   "execution_count": 28,
   "id": "8775b7c5-5eeb-41b5-8dc0-8c4014d1b834",
   "metadata": {},
   "outputs": [],
   "source": [
    "get_query = \"\"\"\n",
    "Select * from Users;\n",
    "\"\"\""
   ]
  },
  {
   "cell_type": "markdown",
   "id": "bc4fbf0e-acdb-4c34-a78a-1629a2db7c1b",
   "metadata": {},
   "source": [
    "## Store the output in variable as output etc.."
   ]
  },
  {
   "cell_type": "code",
   "execution_count": 31,
   "id": "f43e15e0-7b67-4e08-b6d1-a53294f1866a",
   "metadata": {},
   "outputs": [],
   "source": [
    "output = read_query(connection, get_query)"
   ]
  },
  {
   "cell_type": "markdown",
   "id": "2a75cb92-ced6-4ec6-aaef-1774028142b2",
   "metadata": {},
   "source": [
    "## Print the row using for loop"
   ]
  },
  {
   "cell_type": "raw",
   "id": "520a451c-b5a5-4c40-b17e-79e1c30b6945",
   "metadata": {},
   "source": [
    "for row in output:\n",
    "    print(row)"
   ]
  },
  {
   "cell_type": "markdown",
   "id": "a6a6491f-41c4-4905-abca-e8747f46b169",
   "metadata": {},
   "source": [
    "## Convert data into Table using Pandas"
   ]
  },
  {
   "cell_type": "code",
   "execution_count": 35,
   "id": "a0ef9360-4a2d-40bb-833f-725760051a6b",
   "metadata": {},
   "outputs": [],
   "source": [
    "from_db = []\n",
    "\n",
    "for row in output:\n",
    "    result = list(row)\n",
    "    from_db.append(result)"
   ]
  },
  {
   "cell_type": "markdown",
   "id": "9b007f85-f50d-4ffa-8a21-95df31c0ca77",
   "metadata": {},
   "source": [
    "## Table columns"
   ]
  },
  {
   "cell_type": "code",
   "execution_count": 38,
   "id": "f4d0e383-d528-4139-87ec-b4fb290df272",
   "metadata": {},
   "outputs": [],
   "source": [
    "User_column = ['user_id', 'username', 'password', 'user_role']"
   ]
  },
  {
   "cell_type": "code",
   "execution_count": 40,
   "id": "2336ca31-e2a5-42dc-b6a0-3dff0fc00382",
   "metadata": {},
   "outputs": [],
   "source": [
    "User_table = pd.DataFrame(from_db, columns = User_column)"
   ]
  },
  {
   "cell_type": "code",
   "execution_count": 42,
   "id": "ae0da761-cf5d-41c9-a3db-824516e90797",
   "metadata": {},
   "outputs": [
    {
     "data": {
      "text/html": [
       "<div>\n",
       "<style scoped>\n",
       "    .dataframe tbody tr th:only-of-type {\n",
       "        vertical-align: middle;\n",
       "    }\n",
       "\n",
       "    .dataframe tbody tr th {\n",
       "        vertical-align: top;\n",
       "    }\n",
       "\n",
       "    .dataframe thead th {\n",
       "        text-align: right;\n",
       "    }\n",
       "</style>\n",
       "<table border=\"1\" class=\"dataframe\">\n",
       "  <thead>\n",
       "    <tr style=\"text-align: right;\">\n",
       "      <th></th>\n",
       "      <th>user_id</th>\n",
       "      <th>username</th>\n",
       "      <th>password</th>\n",
       "      <th>user_role</th>\n",
       "    </tr>\n",
       "  </thead>\n",
       "  <tbody>\n",
       "    <tr>\n",
       "      <th>0</th>\n",
       "      <td>1</td>\n",
       "      <td>john_doe</td>\n",
       "      <td>password123</td>\n",
       "      <td>staff</td>\n",
       "    </tr>\n",
       "    <tr>\n",
       "      <th>1</th>\n",
       "      <td>2</td>\n",
       "      <td>alice_smith</td>\n",
       "      <td>alicepwd456</td>\n",
       "      <td>student</td>\n",
       "    </tr>\n",
       "    <tr>\n",
       "      <th>2</th>\n",
       "      <td>3</td>\n",
       "      <td>michael_lee</td>\n",
       "      <td>mikepass789</td>\n",
       "      <td>staff</td>\n",
       "    </tr>\n",
       "    <tr>\n",
       "      <th>3</th>\n",
       "      <td>4</td>\n",
       "      <td>emma_jones</td>\n",
       "      <td>emma@2023</td>\n",
       "      <td>student</td>\n",
       "    </tr>\n",
       "    <tr>\n",
       "      <th>4</th>\n",
       "      <td>5</td>\n",
       "      <td>david_brown</td>\n",
       "      <td>davepwd101</td>\n",
       "      <td>staff</td>\n",
       "    </tr>\n",
       "    <tr>\n",
       "      <th>5</th>\n",
       "      <td>6</td>\n",
       "      <td>susan_clark</td>\n",
       "      <td>susie@789</td>\n",
       "      <td>student</td>\n",
       "    </tr>\n",
       "    <tr>\n",
       "      <th>6</th>\n",
       "      <td>7</td>\n",
       "      <td>tom_harris</td>\n",
       "      <td>tomh1234</td>\n",
       "      <td>staff</td>\n",
       "    </tr>\n",
       "    <tr>\n",
       "      <th>7</th>\n",
       "      <td>8</td>\n",
       "      <td>lucy_king</td>\n",
       "      <td>lucy@2024</td>\n",
       "      <td>student</td>\n",
       "    </tr>\n",
       "    <tr>\n",
       "      <th>8</th>\n",
       "      <td>9</td>\n",
       "      <td>george_wilson</td>\n",
       "      <td>georgepwd999</td>\n",
       "      <td>staff</td>\n",
       "    </tr>\n",
       "    <tr>\n",
       "      <th>9</th>\n",
       "      <td>10</td>\n",
       "      <td>isla_davis</td>\n",
       "      <td>isla2023!</td>\n",
       "      <td>student</td>\n",
       "    </tr>\n",
       "    <tr>\n",
       "      <th>10</th>\n",
       "      <td>11</td>\n",
       "      <td>hari</td>\n",
       "      <td>123</td>\n",
       "      <td>student</td>\n",
       "    </tr>\n",
       "  </tbody>\n",
       "</table>\n",
       "</div>"
      ],
      "text/plain": [
       "    user_id       username      password user_role\n",
       "0         1       john_doe   password123     staff\n",
       "1         2    alice_smith   alicepwd456   student\n",
       "2         3    michael_lee   mikepass789     staff\n",
       "3         4     emma_jones     emma@2023   student\n",
       "4         5    david_brown    davepwd101     staff\n",
       "5         6    susan_clark     susie@789   student\n",
       "6         7     tom_harris      tomh1234     staff\n",
       "7         8      lucy_king     lucy@2024   student\n",
       "8         9  george_wilson  georgepwd999     staff\n",
       "9        10     isla_davis     isla2023!   student\n",
       "10       11           hari           123   student"
      ]
     },
     "execution_count": 42,
     "metadata": {},
     "output_type": "execute_result"
    }
   ],
   "source": [
    "User_table"
   ]
  },
  {
   "cell_type": "markdown",
   "id": "343ee4d3-6d25-4087-92c2-9288b69b9505",
   "metadata": {},
   "source": [
    "# Student_information_Sytem"
   ]
  },
  {
   "cell_type": "code",
   "execution_count": 45,
   "id": "bcab1254-8cf5-40ab-b8a4-4f37790c25e1",
   "metadata": {},
   "outputs": [],
   "source": [
    "import tkinter as tk\n",
    "from tkinter import ttk, messagebox"
   ]
  },
  {
   "cell_type": "markdown",
   "id": "47f08ef9-fce8-41a8-a9b5-033e02846e41",
   "metadata": {},
   "source": [
    "## Login functionality"
   ]
  },
  {
   "cell_type": "code",
   "execution_count": 48,
   "id": "0f23107d-b374-400c-98af-b484bc26d69f",
   "metadata": {},
   "outputs": [],
   "source": [
    "def login():\n",
    "    # Retrieve entered username and password\n",
    "    username = username_entry.get()\n",
    "    password = password_entry.get()\n",
    "\n",
    "    # Simple SQL query to check if the username and password match\n",
    "    query_check = \"\"\"\n",
    "    SELECT COUNT(*) FROM Users WHERE username = %s AND password = %s;\n",
    "    \"\"\"\n",
    "\n",
    "    # Connect to the database and validate credentials\n",
    "    try:\n",
    "        connection = create_db_connection(host_name, user_name, pass_word, database_name)\n",
    "        result = read_query(connection, query_check, (username, password))\n",
    "        # print(result)\n",
    "        \n",
    "        # If result[0] > 0, login is successful\n",
    "        if result and result[0][0] > 0:\n",
    "            messagebox.showinfo(\"Login Success\", \"Welcome to the Student Information System!\")\n",
    "            login_window.destroy()  # Close the login window\n",
    "            main_menu()  # Open the main application window\n",
    "        else:\n",
    "            messagebox.showerror(\"Login Failed\", \"Invalid username or password!\")\n",
    "    except pymysql.MySQLError as e:\n",
    "        messagebox.showerror(\"Database Error\", f\"Error connecting to database: {e}\")\n",
    "    finally:\n",
    "        if connection:\n",
    "            connection.close()  # Make sure to close the connection"
   ]
  },
  {
   "cell_type": "markdown",
   "id": "e8191d21-92f3-46ca-b23b-27249dea2b10",
   "metadata": {},
   "source": [
    "## Operation: Add a New Student"
   ]
  },
  {
   "cell_type": "code",
   "execution_count": 51,
   "id": "4ecc8b66-53e1-4934-b922-5c2150e490da",
   "metadata": {},
   "outputs": [],
   "source": [
    "def add_new_student():\n",
    "    window = tk.Toplevel()\n",
    "    window.title(\"Add New Student\")\n",
    "    \n",
    "    fields = [\"Name\", \"DOB\", \"Gender\", \"Address\", \"Phone\", \"Email\"]\n",
    "    entries = {}\n",
    "    for idx, field in enumerate(fields):\n",
    "        tk.Label(window, text=field).grid(row=idx, column=0, padx=10, pady=5)\n",
    "        entry = tk.Entry(window)\n",
    "        entry.grid(row=idx, column=1, padx=10, pady=5)\n",
    "        entries[field] = entry\n",
    "\n",
    "    def submit():\n",
    "        connection = create_db_connection(host_name, user_name, pass_word, database_name)\n",
    "        if connection:\n",
    "            query = \"INSERT INTO Student (name, dob, gender, address, phone, email) VALUES (%s, %s, %s, %s, %s, %s)\"\n",
    "            values = tuple(entries[field].get() for field in fields)\n",
    "            success = execute_query(connection, query, values)\n",
    "            if success:\n",
    "                messagebox.showinfo(\"Success\", \"Student added successfully!\")\n",
    "            else:\n",
    "                messagebox.showerror(\"Error\", \"Failed to add student.\")\n",
    "            connection.close()\n",
    "        else:\n",
    "            messagebox.showerror(\"Error\", \"Failed to connect to the database.\")\n",
    "\n",
    "    tk.Button(window, text=\"Submit\", command=submit).grid(row=len(fields), column=0, columnspan=2, pady=10)"
   ]
  },
  {
   "cell_type": "markdown",
   "id": "b6accb6a-98bc-426a-88ca-41ef021a8acc",
   "metadata": {},
   "source": [
    "## Operation: Update Student Details"
   ]
  },
  {
   "cell_type": "code",
   "execution_count": 54,
   "id": "7dd07007-6684-41bb-a10d-2eeac801f61c",
   "metadata": {},
   "outputs": [],
   "source": [
    "# Operation: Update Student Details\n",
    "def update_student_details():\n",
    "    window = tk.Toplevel()\n",
    "    window.title(\"Update Student Details\")\n",
    "    \n",
    "    # List of fields to be updated\n",
    "    fields = [\"Student ID\", \"Name\", \"DOB\", \"Gender\", \"Address\", \"Phone\", \"Email\"]\n",
    "    entries = {}\n",
    "\n",
    "    # Create input fields for each of the fields\n",
    "    for idx, field in enumerate(fields):\n",
    "        tk.Label(window, text=field).grid(row=idx, column=0, padx=10, pady=5)\n",
    "        entry = tk.Entry(window)\n",
    "        entry.grid(row=idx, column=1, padx=10, pady=5)\n",
    "        entries[field] = entry\n",
    "\n",
    "    # Submit function to handle the update query\n",
    "    def submit():\n",
    "        student_id = entries[\"Student ID\"].get()  # Get the student ID from the entry field\n",
    "        if not student_id:\n",
    "            messagebox.showwarning(\"Input Error\", \"Student ID is required!\")\n",
    "            return\n",
    "        \n",
    "        # Gather the values for the fields\n",
    "        values = tuple(entries[field].get() for field in fields[1:])  # Skip Student ID field\n",
    "        if not any(values):  # If no fields are filled for updating\n",
    "            messagebox.showwarning(\"Input Error\", \"No fields to update!\")\n",
    "            return\n",
    "        \n",
    "        # Create database connection\n",
    "        connection = create_db_connection(host_name, user_name, pass_word, database_name)\n",
    "        \n",
    "        if connection:\n",
    "            # Create dynamic update query\n",
    "            updates = []\n",
    "            update_values = []\n",
    "            \n",
    "            # Construct the update query dynamically\n",
    "            for field, entry in entries.items():\n",
    "                if field != \"Student ID\" and entry.get():  # Skip \"Student ID\"\n",
    "                    db_field = field.lower().replace(\" \", \"_\")  # Column name should match DB field\n",
    "                    updates.append(f\"{db_field}=%s\")\n",
    "                    update_values.append(entry.get())\n",
    "            \n",
    "            # Add the student_id as the last value for the WHERE clause\n",
    "            query = f\"UPDATE Student SET {', '.join(updates)} WHERE student_id=%s\"\n",
    "            values_for_query = update_values + [student_id]\n",
    "            \n",
    "            # Execute the query and commit changes\n",
    "            success = execute_query(connection, query, values_for_query)\n",
    "            \n",
    "            if success:\n",
    "                messagebox.showinfo(\"Success\", \"Student details updated successfully!\")\n",
    "                window.destroy()  # Close the window\n",
    "            else:\n",
    "                messagebox.showerror(\"Error\", \"Failed to update student details.\")\n",
    "            \n",
    "            connection.close()\n",
    "        else:\n",
    "            messagebox.showerror(\"Error\", \"Failed to connect to the database.\")\n",
    "\n",
    "    # Submit button\n",
    "    tk.Button(window, text=\"Submit\", command=submit).grid(row=len(fields), column=0, columnspan=2, pady=10)"
   ]
  },
  {
   "cell_type": "markdown",
   "id": "2f43ef38-d847-449e-a1f8-d5fd38380fec",
   "metadata": {},
   "source": [
    "## Operation: Remove Student"
   ]
  },
  {
   "cell_type": "code",
   "execution_count": 57,
   "id": "39147969-3f17-4c89-9387-43c097722fc5",
   "metadata": {},
   "outputs": [],
   "source": [
    "# Operation: Remove Student\n",
    "def remove_student():\n",
    "    operation_window = tk.Toplevel()\n",
    "    operation_window.title(\"Remove Student\")\n",
    "\n",
    "    # Create Student ID input field\n",
    "    tk.Label(operation_window, text=\"Student ID\").grid(row=0, column=0, padx=10, pady=5)\n",
    "    student_id_entry = tk.Entry(operation_window)\n",
    "    student_id_entry.grid(row=0, column=1, padx=10, pady=5)\n",
    "\n",
    "    # Function to handle deletion of student\n",
    "    def delete():\n",
    "        student_id = student_id_entry.get()\n",
    "        if not student_id:\n",
    "            messagebox.showwarning(\"Input Error\", \"Student ID is required!\")\n",
    "            return\n",
    "        \n",
    "        # Create database connection\n",
    "        connection = create_db_connection(host_name, user_name, pass_word, database_name)\n",
    "        \n",
    "        if connection:\n",
    "            # SQL DELETE query\n",
    "            query = \"DELETE FROM Student WHERE student_id=%s\"\n",
    "            values = (student_id,)  # Use tuple to pass parameters for query execution\n",
    "            \n",
    "            # Execute the query to remove the student\n",
    "            success = execute_query(connection, query, values)\n",
    "            \n",
    "            if success:\n",
    "                messagebox.showinfo(\"Success\", \"Student removed successfully!\")\n",
    "                operation_window.destroy()  # Close the window\n",
    "            else:\n",
    "                messagebox.showerror(\"Error\", \"Failed to remove student.\")\n",
    "            \n",
    "            connection.close()  # Close the connection\n",
    "        else:\n",
    "            messagebox.showerror(\"Error\", \"Failed to connect to the database.\")\n",
    "\n",
    "    # Delete button to trigger the delete function\n",
    "    tk.Button(operation_window, text=\"Delete\", command=delete).grid(row=1, column=0, columnspan=2, pady=20)"
   ]
  },
  {
   "cell_type": "markdown",
   "id": "6ae6e5b9-fd1c-4449-b04d-c0a872c428d1",
   "metadata": {},
   "source": [
    "## Operation: Mark Entry"
   ]
  },
  {
   "cell_type": "code",
   "execution_count": 60,
   "id": "9e2151f4-b3fb-41ff-a560-b69a43f2e5c8",
   "metadata": {},
   "outputs": [],
   "source": [
    "# Operation: Mark Entry\n",
    "def mark_entry():\n",
    "    operation_window = tk.Toplevel()\n",
    "    operation_window.title(\"Mark Entry\")\n",
    "\n",
    "    # Create Student ID input field\n",
    "    tk.Label(operation_window, text=\"Student ID\").grid(row=0, column=0, padx=10, pady=5)\n",
    "    student_id_entry = tk.Entry(operation_window)\n",
    "    student_id_entry.grid(row=0, column=1, padx=10, pady=5)\n",
    "\n",
    "    # Fields for marks\n",
    "    fields = [\"Tamil Marks\", \"English Marks\", \"Maths Marks\", \"Science Marks\", \"Social Marks\"]\n",
    "    entries = {}\n",
    "\n",
    "    for i, field in enumerate(fields):\n",
    "        tk.Label(operation_window, text=field).grid(row=i + 1, column=0, padx=10, pady=5)\n",
    "        entry = tk.Entry(operation_window)\n",
    "        entry.grid(row=i + 1, column=1, padx=10, pady=5)\n",
    "        entries[field] = entry\n",
    "\n",
    "    # Submit function to handle mark entry\n",
    "    def submit():\n",
    "        student_id = student_id_entry.get()\n",
    "        if not student_id:\n",
    "            messagebox.showwarning(\"Input Error\", \"Student ID is required!\")\n",
    "            return\n",
    "\n",
    "        # Get the marks entered\n",
    "        marks = [entries[field].get() for field in fields]\n",
    "        \n",
    "        # Validate that all marks are numbers between 0 and 100\n",
    "        if any(not mark.isdigit() or int(mark) < 0 or int(mark) > 100 for mark in marks):\n",
    "            messagebox.showwarning(\"Input Error\", \"Marks must be between 0 and 100!\")\n",
    "            return\n",
    "        \n",
    "        # Create database connection\n",
    "        connection = create_db_connection(host_name, user_name, pass_word, database_name)\n",
    "        \n",
    "        if connection:\n",
    "            # Calculate total marks and grade\n",
    "            total = sum(map(int, marks))\n",
    "            grade = \"A\" if total >= 400 else \"B\" if total >= 300 else \"C\"\n",
    "\n",
    "            # SQL query for inserting or updating marks\n",
    "            query = \"\"\"\n",
    "                INSERT INTO Marks (student_id, tamil_marks, english_marks, maths_marks, science_marks, social_marks, total_marks, grade) \n",
    "                VALUES (%s, %s, %s, %s, %s, %s, %s, %s) \n",
    "                ON DUPLICATE KEY UPDATE \n",
    "                    tamil_marks=VALUES(tamil_marks), \n",
    "                    english_marks=VALUES(english_marks),\n",
    "                    maths_marks=VALUES(maths_marks),\n",
    "                    science_marks=VALUES(science_marks),\n",
    "                    social_marks=VALUES(social_marks),\n",
    "                    total_marks=VALUES(total_marks), \n",
    "                    grade=VALUES(grade)\n",
    "            \"\"\"\n",
    "            \n",
    "            # Values to insert or update\n",
    "            values = [student_id] + marks + [total, grade]\n",
    "            \n",
    "            # Execute the query\n",
    "            success = execute_query(connection, query, values)\n",
    "            \n",
    "            if success:\n",
    "                messagebox.showinfo(\"Success\", \"Marks entered/updated successfully!\")\n",
    "                operation_window.destroy()  # Close the operation window\n",
    "            else:\n",
    "                messagebox.showerror(\"Error\", \"Failed to enter/update marks.\")\n",
    "            \n",
    "            connection.close()  # Close the connection\n",
    "        else:\n",
    "            messagebox.showerror(\"Error\", \"Failed to connect to the database.\")\n",
    "\n",
    "    # Submit button to trigger the mark entry\n",
    "    tk.Button(operation_window, text=\"Submit\", command=submit).grid(row=len(fields) + 1, column=0, columnspan=2, pady=20)\n"
   ]
  },
  {
   "cell_type": "markdown",
   "id": "6832072f-4cbb-4fc7-8f2a-58cd904bd747",
   "metadata": {},
   "source": [
    "## Operation: View Entire Student Details"
   ]
  },
  {
   "cell_type": "code",
   "execution_count": 63,
   "id": "202802ca-bb9b-4d91-830d-e06fd38d9c0f",
   "metadata": {},
   "outputs": [],
   "source": [
    "import tkinter as tk\n",
    "from tkinter import messagebox\n",
    "\n",
    "def view_student_details():\n",
    "    operation_window = tk.Toplevel()\n",
    "    operation_window.title(\"View Student Details\")\n",
    "\n",
    "    # Student ID entry\n",
    "    tk.Label(operation_window, text=\"Student ID\").grid(row=0, column=0, padx=10, pady=5)\n",
    "    student_id_entry = tk.Entry(operation_window)\n",
    "    student_id_entry.grid(row=0, column=1, padx=10, pady=5)\n",
    "\n",
    "    # Labels to display student details (initially empty)\n",
    "    details_labels = {}\n",
    "    fields = [\"ID\", \"Name\", \"DOB\", \"Gender\", \"Address\", \"Phone\", \"Email\", \"Total Fee\", \"Paid Amount\", \"Status\", \"Tamil Marks\", \"English Marks\", \"Maths Marks\", \"Science Marks\", \"Social Marks\", \"Total Marks\", \"Grade\"]\n",
    "    for idx, field in enumerate(fields):\n",
    "        tk.Label(operation_window, text=field).grid(row=idx + 1, column=0, padx=10, pady=5)\n",
    "        details_labels[field] = tk.Label(operation_window, text=\"\")\n",
    "        details_labels[field].grid(row=idx + 1, column=1, padx=10, pady=5)\n",
    "\n",
    "    def fetch():\n",
    "        student_id = student_id_entry.get()\n",
    "\n",
    "        if not student_id:\n",
    "            messagebox.showwarning(\"Input Error\", \"Student ID is required!\")\n",
    "            return\n",
    "\n",
    "        # Check if the student_id is a valid integer (if your IDs are integers)\n",
    "        try:\n",
    "            student_id = int(student_id)\n",
    "        except ValueError:\n",
    "            messagebox.showwarning(\"Input Error\", \"Please enter a valid numeric Student ID!\")\n",
    "            return\n",
    "\n",
    "        # Query to retrieve student details along with marks and fees\n",
    "        query = \"\"\"\n",
    "            SELECT s.student_id, s.name, s.dob, s.gender, s.address, s.phone, s.email, \n",
    "                   f.total_fee, f.paid_amount, f.status, \n",
    "                   m.tamil_marks, m.english_marks, m.maths_marks, m.science_marks, m.social_marks, m.total_marks, m.grade \n",
    "            FROM Student s\n",
    "            LEFT JOIN Fees f ON s.student_id = f.student_id\n",
    "            LEFT JOIN Marks m ON s.student_id = m.student_id\n",
    "            WHERE s.student_id = %s\n",
    "        \"\"\"\n",
    "        \n",
    "        # Assuming you have a function to connect to the DB\n",
    "        connection = create_db_connection(host_name, user_name, pass_word, database_name)\n",
    "        \n",
    "        # Fetching the data using execute_query\n",
    "        rows = read_query(connection, query, (student_id,))\n",
    "\n",
    "        # Debugging: Print the query results\n",
    "        # print(f\"Query executed: {query}\")\n",
    "        # print(f\"Rows fetched: {rows}\")\n",
    "\n",
    "        if rows:\n",
    "            # Extract the first row of results (since the query is for a specific student)\n",
    "            student_data = rows[0]\n",
    "\n",
    "            # Update the labels with student data\n",
    "            for idx, field in enumerate(fields):\n",
    "                details_labels[field].config(text=str(student_data[idx]))\n",
    "        else:\n",
    "            messagebox.showwarning(\"No Data\", f\"No student found with ID {student_id}.\")\n",
    "\n",
    "        # Close the database connection\n",
    "        connection.close()\n",
    "\n",
    "    # Button to fetch student details\n",
    "    tk.Button(operation_window, text=\"Fetch Details\", command=fetch).grid(row=len(fields) + 1, column=0, columnspan=2, pady=10)\n"
   ]
  },
  {
   "cell_type": "markdown",
   "id": "720070cd-19d8-4256-b1f3-4bbb76ce30ff",
   "metadata": {},
   "source": [
    "## Main Menu Gui"
   ]
  },
  {
   "cell_type": "markdown",
   "id": "da1894be-f237-495d-9f25-c104cbdb9595",
   "metadata": {},
   "source": [
    "### Main menu functionality"
   ]
  },
  {
   "cell_type": "code",
   "execution_count": 67,
   "id": "6498706d-1a51-4d34-9161-2ccad55c854d",
   "metadata": {},
   "outputs": [],
   "source": [
    "# Main menu functionality\n",
    "def main_menu():\n",
    "    # Create main menu window\n",
    "    menu_window = tk.Tk()\n",
    "    menu_window.title(\"Student Information System - Operations\")\n",
    "    \n",
    "    # Set a fixed window size (optional)\n",
    "    menu_window.geometry(\"600x600\")\n",
    "    \n",
    "    # Create a label for instructions\n",
    "    tk.Label(menu_window, text=\"Select Operation\", font=(\"Arial\", 16)).pack(pady=20)\n",
    "    \n",
    "    # Define a list of operations (buttons)\n",
    "    operations = [\n",
    "        (\"Add New Student\", add_new_student),\n",
    "        (\"Update Student Details\", update_student_details),\n",
    "        (\"Remove Student\", remove_student),\n",
    "        (\"Mark Entry\", mark_entry),\n",
    "        (\"View Entire Student Details\", view_student_details)\n",
    "    ]\n",
    "    \n",
    "    # Create a button for each operation\n",
    "    for op_name, op_command in operations:\n",
    "        tk.Button(menu_window, text=op_name, command=op_command, width=30, height=2).pack(pady=10)\n",
    "\n",
    "    # Optional: Add a quit button to close the application\n",
    "    tk.Button(menu_window, text=\"Quit\", command=menu_window.destroy , width=30, height=2, bg=\"red\").pack(pady=10)\n",
    "\n",
    "    # Start the Tkinter main loop to display the window\n",
    "    menu_window.mainloop()"
   ]
  },
  {
   "cell_type": "markdown",
   "id": "d7a9d42a-bd50-4ba5-aec8-9ec2f0070698",
   "metadata": {},
   "source": [
    "## Login window"
   ]
  },
  {
   "cell_type": "code",
   "execution_count": 70,
   "id": "aad9701e-bef7-49d3-a24e-2a8026afd2d1",
   "metadata": {},
   "outputs": [
    {
     "name": "stdout",
     "output_type": "stream",
     "text": [
      "MySQL Database connection successful\n",
      "MySQL Database connection successful\n"
     ]
    }
   ],
   "source": [
    "# Login window\n",
    "login_window = tk.Tk()\n",
    "login_window.title(\"Student Information System - Login\")\n",
    "\n",
    "login_window.geometry(\"300x300\")\n",
    "\n",
    "tk.Label(login_window, text=\"Username\").grid(row=0, column=0, padx=10, pady=10)\n",
    "username_entry = tk.Entry(login_window)\n",
    "username_entry.grid(row=0, column=1, padx=10, pady=10)\n",
    "\n",
    "tk.Label(login_window, text=\"Password\").grid(row=1, column=0, padx=10, pady=10)\n",
    "password_entry = tk.Entry(login_window, show=\"*\")\n",
    "password_entry.grid(row=1, column=1, padx=10, pady=10)\n",
    "\n",
    "login_button = tk.Button(login_window, text=\"Login\", command=login)\n",
    "login_button.grid(row=2, column=0, columnspan=2, pady=20)\n",
    "\n",
    "login_window.mainloop()"
   ]
  },
  {
   "cell_type": "code",
   "execution_count": null,
   "id": "cabc922d-c28e-48ca-aef5-571062edb97a",
   "metadata": {},
   "outputs": [],
   "source": []
  }
 ],
 "metadata": {
  "kernelspec": {
   "display_name": "Python 3 (ipykernel)",
   "language": "python",
   "name": "python3"
  },
  "language_info": {
   "codemirror_mode": {
    "name": "ipython",
    "version": 3
   },
   "file_extension": ".py",
   "mimetype": "text/x-python",
   "name": "python",
   "nbconvert_exporter": "python",
   "pygments_lexer": "ipython3",
   "version": "3.11.7"
  }
 },
 "nbformat": 4,
 "nbformat_minor": 5
}
